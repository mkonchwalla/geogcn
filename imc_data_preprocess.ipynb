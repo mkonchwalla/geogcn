{
 "cells": [
  {
   "cell_type": "code",
   "execution_count": 52,
   "metadata": {},
   "outputs": [],
   "source": [
    "import numpy as np\n",
    "import pandas as pd\n",
    "import itertools\n",
    "%matplotlib inline\n",
    "import matplotlib.pyplot as plt\n",
    "from matplotlib import pyplot\n",
    "from scipy import stats\n",
    "import os\n",
    "import time\n",
    "from sklearn import preprocessing, feature_extraction, model_selection\n",
    "from copy import deepcopy\n",
    "from IPython.display import display, HTML\n",
    "import scipy.sparse\n",
    "from scipy.spatial.distance import cdist\n",
    "from scipy.spatial import KDTree\n",
    "import networkx as nx"
   ]
  },
  {
   "cell_type": "code",
   "execution_count": 53,
   "metadata": {},
   "outputs": [
    {
     "output_type": "stream",
     "name": "stdout",
     "text": [
      "20210413_ContMRTX_neighbour_clustering_61clusters_DCsSeparated_TCrenamed_addedInfo copy.csv\nFigure_1.png\n\u001b[34m__pycache__\u001b[m\u001b[m\n\u001b[34mdata\u001b[m\u001b[m\nimc_data_preprocess.ipynb\nlayer.py\nmain.py\n\u001b[34mplots\u001b[m\u001b[m\nstolen.py\nutils.py\nutils2.py\n"
     ]
    }
   ],
   "source": [
    "!ls"
   ]
  },
  {
   "cell_type": "code",
   "execution_count": 54,
   "metadata": {},
   "outputs": [],
   "source": [
    "full2 = pd.read_csv('20210413_ContMRTX_neighbour_clustering_61clusters_DCsSeparated_TCrenamed_addedInfo copy.csv')\n",
    "full2_nandrop=full2.dropna()"
   ]
  },
  {
   "cell_type": "code",
   "execution_count": 55,
   "metadata": {},
   "outputs": [
    {
     "output_type": "execute_result",
     "data": {
      "text/plain": [
       "(array(['20190913_BRAC3529.2d_ROI1_MRTX',\n",
       "        '20200130_BRAC4002.3c_ROI2_MRTX_crop1',\n",
       "        '20200130_BRAC4002.3c_ROI2_MRTX_crop2',\n",
       "        '20200130_BRAC4002.3c_ROI3_MRTX',\n",
       "        '20190917_BRAC3495.3f_ROI1_Cont_crop1',\n",
       "        '20190917_BRAC3495.3f_ROI1_Cont_crop2',\n",
       "        '20190927_BRAC3529.2b_ROI1_MRTX_crop2',\n",
       "        '20191119_BRAC3326.4e_ROI1_Cont_crop1',\n",
       "        '20191121_BRAC3438.6f_ROI1_Cont', '20191121_BRAC3438.6f_ROI2_Cont',\n",
       "        '20191121_BRAC3438.6f_ROI3_Cont', '20200130_BRAC4002.3c_ROI1_MRTX'],\n",
       "       dtype=object),\n",
       " array(['BRAC3529.2d_ROI1_MRTX.', 'BRAC4002.3c_ROI2_MRTX_crop1.',\n",
       "        'BRAC4002.3c_ROI2_MRTX_crop2.', 'BRAC4002.3c_ROI3_MRTX.',\n",
       "        'BRAC3495.3f_ROI1_Cont_crop1.', 'BRAC3495.3f_ROI1_Cont_crop2.',\n",
       "        'BRAC3529.2b_ROI1_MRTX_crop2.', 'BRAC3326.4e_ROI1_Cont_crop1.',\n",
       "        'BRAC3438.6f_ROI1_Cont.', 'BRAC3438.6f_ROI2_Cont.',\n",
       "        'BRAC3438.6f_ROI3_Cont.', 'BRAC4002.3c_ROI1_MRTX.'], dtype=object))"
      ]
     },
     "metadata": {},
     "execution_count": 55
    }
   ],
   "source": [
    "full2['Filename'].unique(), full2['ROI_name'].unique()"
   ]
  },
  {
   "cell_type": "code",
   "execution_count": 56,
   "metadata": {},
   "outputs": [
    {
     "output_type": "execute_result",
     "data": {
      "text/plain": [
       "Index(['Unnamed: 0', 'X.3', 'X.2', 'X.1', 'X', 'cellID', 'cellType', 'B_cells',\n",
       "       'Epithelium', 'Fibroblasts', 'Myeloid_dendritic_cells',\n",
       "       'Myeloid_dendritic_cells_CD103', 'Myeloid_macrophages',\n",
       "       'Myeloid_macrophages_type1', 'Myeloid_macrophages_type2',\n",
       "       'Myeloid_neutrophils', 'Normal', 'Tumour', 'Vessels', 'T_cells_CD8',\n",
       "       'T_cells_CD4', 'T_reg_cells', 'NK_cells', 'cluster', 'Treatment',\n",
       "       'Domain', 'ROI_name', 'Filename', 'Clustername', 'ObjectNumber',\n",
       "       'ImageNumber', 'Location_Center_X', 'Location_Center_Y', 'MI_B220',\n",
       "       'MI_CD103', 'MI_CD11c', 'MI_CD206', 'MI_CD3', 'MI_CD44', 'MI_CD45',\n",
       "       'MI_CD4', 'MI_CD68', 'MI_CD80', 'MI_CD86', 'MI_CD8', 'MI_EPCAM',\n",
       "       'MI_F480', 'MI_Foxp3', 'MI_Ki67', 'MI_LY6G', 'MI_MHCcII', 'MI_NKp46',\n",
       "       'MI_PD1', 'MI_PDL1', 'MI_PECAM', 'MI_PVR', 'MI_TCRgd', 'MI_Vimentin',\n",
       "       'MI_aSMA', 'MI_casp3', 'MI_pS6', 'clustername_tumour',\n",
       "       'clustername_tumourID'],\n",
       "      dtype='object')"
      ]
     },
     "metadata": {},
     "execution_count": 56
    }
   ],
   "source": [
    "full2.columns"
   ]
  },
  {
   "cell_type": "code",
   "execution_count": 57,
   "metadata": {},
   "outputs": [
    {
     "output_type": "stream",
     "name": "stdout",
     "text": [
      "276759\n230394\n"
     ]
    },
    {
     "output_type": "execute_result",
     "data": {
      "text/plain": [
       "    cluster\n",
       "18    33915\n",
       "46    27145\n",
       "60    22347\n",
       "39    18722\n",
       "40    15983\n",
       "58    13377\n",
       "34    11598\n",
       "44    11494\n",
       "61    10845\n",
       "16    10625\n",
       "1     10389\n",
       "22     9307\n",
       "59     7261\n",
       "32     4580\n",
       "53     4262\n",
       "49     4047\n",
       "21     3993\n",
       "19     3640\n",
       "29     3445\n",
       "20     3419"
      ],
      "text/html": "<div>\n<style scoped>\n    .dataframe tbody tr th:only-of-type {\n        vertical-align: middle;\n    }\n\n    .dataframe tbody tr th {\n        vertical-align: top;\n    }\n\n    .dataframe thead th {\n        text-align: right;\n    }\n</style>\n<table border=\"1\" class=\"dataframe\">\n  <thead>\n    <tr style=\"text-align: right;\">\n      <th></th>\n      <th>cluster</th>\n    </tr>\n  </thead>\n  <tbody>\n    <tr>\n      <th>18</th>\n      <td>33915</td>\n    </tr>\n    <tr>\n      <th>46</th>\n      <td>27145</td>\n    </tr>\n    <tr>\n      <th>60</th>\n      <td>22347</td>\n    </tr>\n    <tr>\n      <th>39</th>\n      <td>18722</td>\n    </tr>\n    <tr>\n      <th>40</th>\n      <td>15983</td>\n    </tr>\n    <tr>\n      <th>58</th>\n      <td>13377</td>\n    </tr>\n    <tr>\n      <th>34</th>\n      <td>11598</td>\n    </tr>\n    <tr>\n      <th>44</th>\n      <td>11494</td>\n    </tr>\n    <tr>\n      <th>61</th>\n      <td>10845</td>\n    </tr>\n    <tr>\n      <th>16</th>\n      <td>10625</td>\n    </tr>\n    <tr>\n      <th>1</th>\n      <td>10389</td>\n    </tr>\n    <tr>\n      <th>22</th>\n      <td>9307</td>\n    </tr>\n    <tr>\n      <th>59</th>\n      <td>7261</td>\n    </tr>\n    <tr>\n      <th>32</th>\n      <td>4580</td>\n    </tr>\n    <tr>\n      <th>53</th>\n      <td>4262</td>\n    </tr>\n    <tr>\n      <th>49</th>\n      <td>4047</td>\n    </tr>\n    <tr>\n      <th>21</th>\n      <td>3993</td>\n    </tr>\n    <tr>\n      <th>19</th>\n      <td>3640</td>\n    </tr>\n    <tr>\n      <th>29</th>\n      <td>3445</td>\n    </tr>\n    <tr>\n      <th>20</th>\n      <td>3419</td>\n    </tr>\n  </tbody>\n</table>\n</div>"
     },
     "metadata": {},
     "execution_count": 57
    }
   ],
   "source": [
    "# Number of treated (MRTX) and control (Control) cells\n",
    "print(len(full2_nandrop))\n",
    "t=full2_nandrop['cluster'].value_counts().to_frame()\n",
    "valid_clusters=t.nlargest(20,'cluster').index\n",
    "full2_nandrop=full2_nandrop[full2_nandrop['cluster'].isin( valid_clusters)]\n",
    "print(len(full2_nandrop))\n",
    "t.nlargest(20,'cluster')"
   ]
  },
  {
   "cell_type": "code",
   "execution_count": 6,
   "metadata": {},
   "outputs": [
    {
     "output_type": "execute_result",
     "data": {
      "text/plain": [
       "         Treatment\n",
       "MRTX        144898\n",
       "Control     131861"
      ],
      "text/html": "<div>\n<style scoped>\n    .dataframe tbody tr th:only-of-type {\n        vertical-align: middle;\n    }\n\n    .dataframe tbody tr th {\n        vertical-align: top;\n    }\n\n    .dataframe thead th {\n        text-align: right;\n    }\n</style>\n<table border=\"1\" class=\"dataframe\">\n  <thead>\n    <tr style=\"text-align: right;\">\n      <th></th>\n      <th>Treatment</th>\n    </tr>\n  </thead>\n  <tbody>\n    <tr>\n      <th>MRTX</th>\n      <td>144898</td>\n    </tr>\n    <tr>\n      <th>Control</th>\n      <td>131861</td>\n    </tr>\n  </tbody>\n</table>\n</div>"
     },
     "metadata": {},
     "execution_count": 6
    }
   ],
   "source": [
    "full2_nandrop['Treatment'].value_counts().to_frame()"
   ]
  },
  {
   "cell_type": "code",
   "execution_count": 7,
   "metadata": {},
   "outputs": [],
   "source": [
    "# MRTX and Control data frames\n",
    "df_mrtx = full2_nandrop[full2_nandrop['Treatment'] == 'MRTX']\n",
    "df_control = full2_nandrop[full2_nandrop['Treatment'] == 'Control']"
   ]
  },
  {
   "cell_type": "code",
   "execution_count": 8,
   "metadata": {
    "scrolled": true,
    "tags": []
   },
   "outputs": [
    {
     "output_type": "execute_result",
     "data": {
      "text/plain": [
       "         cellID                     cellType Treatment  Domain  \\\n",
       "104818      2_1                      Vessels   Control  normal   \n",
       "104819     2_10                      Vessels   Control  normal   \n",
       "104820    2_100                      Vessels   Control  normal   \n",
       "104821   2_1000                      Vessels   Control  normal   \n",
       "104822  2_10000     Myeloid:_dendritic_cells   Control  tumour   \n",
       "...         ...                          ...       ...     ...   \n",
       "273652   8_9995  Myeloid:_macrophages_type_2   Control  tumour   \n",
       "273653   8_9996                       Tumour   Control  tumour   \n",
       "273654   8_9997                       Tumour   Control  tumour   \n",
       "273655   8_9998  Myeloid:_macrophages_type_2   Control  tumour   \n",
       "273656   8_9999                       Tumour   Control  tumour   \n",
       "\n",
       "                            ROI_name                              Filename  \\\n",
       "104818  BRAC3495.3f_ROI1_Cont_crop1.  20190917_BRAC3495.3f_ROI1_Cont_crop1   \n",
       "104819  BRAC3495.3f_ROI1_Cont_crop1.  20190917_BRAC3495.3f_ROI1_Cont_crop1   \n",
       "104820  BRAC3495.3f_ROI1_Cont_crop1.  20190917_BRAC3495.3f_ROI1_Cont_crop1   \n",
       "104821  BRAC3495.3f_ROI1_Cont_crop1.  20190917_BRAC3495.3f_ROI1_Cont_crop1   \n",
       "104822  BRAC3495.3f_ROI1_Cont_crop1.  20190917_BRAC3495.3f_ROI1_Cont_crop1   \n",
       "...                              ...                                   ...   \n",
       "273652        BRAC3438.6f_ROI3_Cont.        20191121_BRAC3438.6f_ROI3_Cont   \n",
       "273653        BRAC3438.6f_ROI3_Cont.        20191121_BRAC3438.6f_ROI3_Cont   \n",
       "273654        BRAC3438.6f_ROI3_Cont.        20191121_BRAC3438.6f_ROI3_Cont   \n",
       "273655        BRAC3438.6f_ROI3_Cont.        20191121_BRAC3438.6f_ROI3_Cont   \n",
       "273656        BRAC3438.6f_ROI3_Cont.        20191121_BRAC3438.6f_ROI3_Cont   \n",
       "\n",
       "                         Clustername           clustername_tumour  \n",
       "104818   14_Endothelium, Normal lung                      Vessels  \n",
       "104819                19_Endothelium                      Vessels  \n",
       "104820   14_Endothelium, Normal lung                      Vessels  \n",
       "104821   14_Endothelium, Normal lung                      Vessels  \n",
       "104822            27_Dendritic cells     Myeloid:_dendritic_cells  \n",
       "...                              ...                          ...  \n",
       "273652  26_Macrophages, CD206_type_2  Myeloid:_macrophages_type_2  \n",
       "273653                     22_Tumour                       Tumour  \n",
       "273654                     22_Tumour                       Tumour  \n",
       "273655  26_Macrophages, CD206_type_2  Myeloid:_macrophages_type_2  \n",
       "273656               15B_Tumour, pS6                       Tumour  \n",
       "\n",
       "[131861 rows x 8 columns]"
      ],
      "text/html": "<div>\n<style scoped>\n    .dataframe tbody tr th:only-of-type {\n        vertical-align: middle;\n    }\n\n    .dataframe tbody tr th {\n        vertical-align: top;\n    }\n\n    .dataframe thead th {\n        text-align: right;\n    }\n</style>\n<table border=\"1\" class=\"dataframe\">\n  <thead>\n    <tr style=\"text-align: right;\">\n      <th></th>\n      <th>cellID</th>\n      <th>cellType</th>\n      <th>Treatment</th>\n      <th>Domain</th>\n      <th>ROI_name</th>\n      <th>Filename</th>\n      <th>Clustername</th>\n      <th>clustername_tumour</th>\n    </tr>\n  </thead>\n  <tbody>\n    <tr>\n      <th>104818</th>\n      <td>2_1</td>\n      <td>Vessels</td>\n      <td>Control</td>\n      <td>normal</td>\n      <td>BRAC3495.3f_ROI1_Cont_crop1.</td>\n      <td>20190917_BRAC3495.3f_ROI1_Cont_crop1</td>\n      <td>14_Endothelium, Normal lung</td>\n      <td>Vessels</td>\n    </tr>\n    <tr>\n      <th>104819</th>\n      <td>2_10</td>\n      <td>Vessels</td>\n      <td>Control</td>\n      <td>normal</td>\n      <td>BRAC3495.3f_ROI1_Cont_crop1.</td>\n      <td>20190917_BRAC3495.3f_ROI1_Cont_crop1</td>\n      <td>19_Endothelium</td>\n      <td>Vessels</td>\n    </tr>\n    <tr>\n      <th>104820</th>\n      <td>2_100</td>\n      <td>Vessels</td>\n      <td>Control</td>\n      <td>normal</td>\n      <td>BRAC3495.3f_ROI1_Cont_crop1.</td>\n      <td>20190917_BRAC3495.3f_ROI1_Cont_crop1</td>\n      <td>14_Endothelium, Normal lung</td>\n      <td>Vessels</td>\n    </tr>\n    <tr>\n      <th>104821</th>\n      <td>2_1000</td>\n      <td>Vessels</td>\n      <td>Control</td>\n      <td>normal</td>\n      <td>BRAC3495.3f_ROI1_Cont_crop1.</td>\n      <td>20190917_BRAC3495.3f_ROI1_Cont_crop1</td>\n      <td>14_Endothelium, Normal lung</td>\n      <td>Vessels</td>\n    </tr>\n    <tr>\n      <th>104822</th>\n      <td>2_10000</td>\n      <td>Myeloid:_dendritic_cells</td>\n      <td>Control</td>\n      <td>tumour</td>\n      <td>BRAC3495.3f_ROI1_Cont_crop1.</td>\n      <td>20190917_BRAC3495.3f_ROI1_Cont_crop1</td>\n      <td>27_Dendritic cells</td>\n      <td>Myeloid:_dendritic_cells</td>\n    </tr>\n    <tr>\n      <th>...</th>\n      <td>...</td>\n      <td>...</td>\n      <td>...</td>\n      <td>...</td>\n      <td>...</td>\n      <td>...</td>\n      <td>...</td>\n      <td>...</td>\n    </tr>\n    <tr>\n      <th>273652</th>\n      <td>8_9995</td>\n      <td>Myeloid:_macrophages_type_2</td>\n      <td>Control</td>\n      <td>tumour</td>\n      <td>BRAC3438.6f_ROI3_Cont.</td>\n      <td>20191121_BRAC3438.6f_ROI3_Cont</td>\n      <td>26_Macrophages, CD206_type_2</td>\n      <td>Myeloid:_macrophages_type_2</td>\n    </tr>\n    <tr>\n      <th>273653</th>\n      <td>8_9996</td>\n      <td>Tumour</td>\n      <td>Control</td>\n      <td>tumour</td>\n      <td>BRAC3438.6f_ROI3_Cont.</td>\n      <td>20191121_BRAC3438.6f_ROI3_Cont</td>\n      <td>22_Tumour</td>\n      <td>Tumour</td>\n    </tr>\n    <tr>\n      <th>273654</th>\n      <td>8_9997</td>\n      <td>Tumour</td>\n      <td>Control</td>\n      <td>tumour</td>\n      <td>BRAC3438.6f_ROI3_Cont.</td>\n      <td>20191121_BRAC3438.6f_ROI3_Cont</td>\n      <td>22_Tumour</td>\n      <td>Tumour</td>\n    </tr>\n    <tr>\n      <th>273655</th>\n      <td>8_9998</td>\n      <td>Myeloid:_macrophages_type_2</td>\n      <td>Control</td>\n      <td>tumour</td>\n      <td>BRAC3438.6f_ROI3_Cont.</td>\n      <td>20191121_BRAC3438.6f_ROI3_Cont</td>\n      <td>26_Macrophages, CD206_type_2</td>\n      <td>Myeloid:_macrophages_type_2</td>\n    </tr>\n    <tr>\n      <th>273656</th>\n      <td>8_9999</td>\n      <td>Tumour</td>\n      <td>Control</td>\n      <td>tumour</td>\n      <td>BRAC3438.6f_ROI3_Cont.</td>\n      <td>20191121_BRAC3438.6f_ROI3_Cont</td>\n      <td>15B_Tumour, pS6</td>\n      <td>Tumour</td>\n    </tr>\n  </tbody>\n</table>\n<p>131861 rows × 8 columns</p>\n</div>"
     },
     "metadata": {},
     "execution_count": 8
    }
   ],
   "source": [
    "# Which columns have data type 'object' entries? Some of these will need to be label encoded, or one-hot encoded\n",
    "df_control.select_dtypes(include='object')"
   ]
  },
  {
   "cell_type": "code",
   "execution_count": 12,
   "metadata": {},
   "outputs": [
    {
     "output_type": "stream",
     "name": "stderr",
     "text": [
      "ipykernel_launcher:3: SettingWithCopyWarning: \nA value is trying to be set on a copy of a slice from a DataFrame.\nTry using .loc[row_indexer,col_indexer] = value instead\n\nSee the caveats in the documentation: http://pandas.pydata.org/pandas-docs/stable/user_guide/indexing.html#returning-a-view-versus-a-copy\n"
     ]
    }
   ],
   "source": [
    "# For example, here we encode the 'Domain' column\n",
    "le_domain = preprocessing.LabelEncoder()\n",
    "df_control['Domain'] = le_domain.fit_transform(df_control['Domain'])"
   ]
  },
  {
   "cell_type": "code",
   "execution_count": 81,
   "metadata": {},
   "outputs": [
    {
     "output_type": "execute_result",
     "data": {
      "text/plain": [
       "['interface', 'normal', 'tumour']"
      ]
     },
     "metadata": {},
     "execution_count": 81
    }
   ],
   "source": [
    "list(le_domain.inverse_transform([0,1,2]))"
   ]
  },
  {
   "cell_type": "code",
   "execution_count": 11,
   "metadata": {},
   "outputs": [
    {
     "output_type": "execute_result",
     "data": {
      "text/plain": [
       "((131861, 2), (144898, 2))"
      ]
     },
     "metadata": {},
     "execution_count": 11
    }
   ],
   "source": [
    "loc_all_cell_control = df_control[['Location_Center_X','Location_Center_Y']].to_numpy()\n",
    "loc_all_cell_mrtx    = df_mrtx[['Location_Center_X','Location_Center_Y']].to_numpy()\n",
    "\n",
    "loc_all_cell_control.shape, loc_all_cell_mrtx.shape"
   ]
  },
  {
   "cell_type": "code",
   "execution_count": 13,
   "metadata": {},
   "outputs": [],
   "source": [
    "# Create separate dataframe with the columns that will be used as features in the GCN/other algorithms\n",
    "# Eg, Specify which columns will be excluded from this\n",
    "cols_to_drop=['X.1', 'X.2','X.3'] # fill in which columns to drop"
   ]
  },
  {
   "cell_type": "code",
   "execution_count": 14,
   "metadata": {},
   "outputs": [],
   "source": [
    "ddf_control=df_control.drop(cols_to_drop, axis=1)\n",
    "ddf_mrtx=df_mrtx.drop(cols_to_drop, axis=1)"
   ]
  },
  {
   "cell_type": "code",
   "execution_count": 15,
   "metadata": {},
   "outputs": [],
   "source": [
    "#control rois \n",
    "control_rois=ddf_control.ROI_name.unique()\n",
    "#treated rois\n",
    "mrtx_rois=ddf_mrtx.ROI_name.unique()"
   ]
  },
  {
   "cell_type": "code",
   "execution_count": 18,
   "metadata": {},
   "outputs": [
    {
     "output_type": "execute_result",
     "data": {
      "text/plain": [
       "(array(['BRAC3495.3f_ROI1_Cont_crop1.', 'BRAC3495.3f_ROI1_Cont_crop2.',\n",
       "        'BRAC3326.4e_ROI1_Cont_crop1.', 'BRAC3438.6f_ROI1_Cont.',\n",
       "        'BRAC3438.6f_ROI2_Cont.', 'BRAC3438.6f_ROI3_Cont.'], dtype=object),\n",
       " array(['BRAC3529.2d_ROI1_MRTX.', 'BRAC4002.3c_ROI2_MRTX_crop1.',\n",
       "        'BRAC4002.3c_ROI2_MRTX_crop2.', 'BRAC4002.3c_ROI3_MRTX.',\n",
       "        'BRAC3529.2b_ROI1_MRTX_crop2.', 'BRAC4002.3c_ROI1_MRTX.'],\n",
       "       dtype=object))"
      ]
     },
     "metadata": {},
     "execution_count": 18
    }
   ],
   "source": [
    "control_rois,mrtx_rois"
   ]
  },
  {
   "cell_type": "code",
   "execution_count": 19,
   "metadata": {},
   "outputs": [
    {
     "output_type": "execute_result",
     "data": {
      "text/plain": [
       "'BRAC4002.3c_ROI2_MRTX_crop1.'"
      ]
     },
     "metadata": {},
     "execution_count": 19
    }
   ],
   "source": [
    "#control rois \n",
    "control_rois=ddf_control.ROI_name.unique()\n",
    "#treated rois\n",
    "mrtx_rois=ddf_mrtx.ROI_name.unique()\n",
    "\n",
    "# data frame for each roi. can write function to do this, or create a dictionary   \n",
    "mrtx_roi_2_all = ddf_mrtx[(ddf_mrtx.ROI_name==(mrtx_rois[0]))]\n",
    "mrtx_roi_1_all = ddf_mrtx[(ddf_mrtx.ROI_name==(mrtx_rois[1]))]\n",
    "#\n",
    "control_roi_7_all  = ddf_control[(ddf_control.ROI_name==(control_rois[2]))]\n",
    "control_roi_12_all = ddf_control[(ddf_control.ROI_name==(control_rois[1]))]\n",
    "mrtx_rois[1]"
   ]
  },
  {
   "cell_type": "code",
   "execution_count": 88,
   "metadata": {},
   "outputs": [],
   "source": [
    "# locations of all cells in each roi\n",
    "loc_mrtx_roi_1_all = mrtx_roi_1_all[['Location_Center_X','Location_Center_Y']].to_numpy()\n",
    "loc_mrtx_roi_2_all = mrtx_roi_2_all[['Location_Center_X','Location_Center_Y']].to_numpy()\n",
    "# etc...same for control"
   ]
  },
  {
   "cell_type": "code",
   "execution_count": 89,
   "metadata": {},
   "outputs": [],
   "source": [
    "# Create distance matrix. This calculates the distances between every pair of nodes within a radius of r = cutoff of every node\n",
    "\n",
    "def distance_matrix(cutoff, points_1, points_2=None, output='dict'):\n",
    "    \n",
    "    \"\"\"\n",
    "    This function computes a distance matrix between points in 'points_1' and 'points_2'\n",
    "    that are within 'cutoff' of each other.\n",
    "    \n",
    "    ***Input\n",
    "    cutoff   : the distance cutoff\n",
    "    points_1 : a numpy array of coordinates\n",
    "    points_2 : a numpy array of coordinates\n",
    "    output   : form of output.\n",
    "    ***Output\n",
    "            'dict': (default) is a dictionary with every pair of points as the keys\n",
    "                                 and the distance as the value.\n",
    "            'coo_matrix', 'dok_matrix', 'ndarray'\n",
    "    \"\"\"\n",
    "    \n",
    "    tree1 = scipy.spatial.cKDTree(points_1, leafsize=16)\n",
    "    if points_2 is None:\n",
    "        points_2 = points_1\n",
    "    tree2 = scipy.spatial.cKDTree(points_2,leafsize=16)\n",
    "    \n",
    "    distances = tree1.sparse_distance_matrix(tree2, cutoff, output_type=output)\n",
    "    return distances"
   ]
  },
  {
   "cell_type": "code",
   "execution_count": 90,
   "metadata": {},
   "outputs": [],
   "source": [
    "# Calculate distance matrix for all cells in roi 1\n"
   ]
  },
  {
   "cell_type": "code",
   "execution_count": 91,
   "metadata": {
    "tags": []
   },
   "outputs": [],
   "source": [
    "# %%time\n",
    "dist_1=distance_matrix(25, loc_mrtx_roi_1_all,loc_mrtx_roi_1_all, 'dict')\n"
   ]
  },
  {
   "cell_type": "code",
   "execution_count": 45,
   "metadata": {
    "tags": []
   },
   "outputs": [
    {
     "output_type": "execute_result",
     "data": {
      "text/plain": [
       "array([[ 854.3813,  114.592 ],\n",
       "       [1071.992 ,  291.3498],\n",
       "       [ 313.8542, 1066.306 ],\n",
       "       ...,\n",
       "       [ 158.1611, 1063.333 ],\n",
       "       [ 274.    , 1066.456 ],\n",
       "       [ 284.3333, 1064.59  ]])"
      ]
     },
     "metadata": {},
     "execution_count": 45
    }
   ],
   "source": []
  },
  {
   "cell_type": "code",
   "execution_count": 92,
   "metadata": {},
   "outputs": [],
   "source": [
    "# create a weighted adjacency matrix from the above distance matrix. edge weight should be inverse of distance (can also try 1/(distance^2), for a faster fall off of interactions)\n",
    "# put this into whatever data structure your GCN code takes as input.\n",
    "\n",
    "n,_  = loc_mrtx_roi_1_all.shape \n",
    "adj = np.zeros((n,n))\n",
    "\n",
    "for e, d in dist_1.items(): \n",
    "    v1,v2 = e \n",
    "    if v1 != v2:\n",
    "        adj[v1][v2] =  1/d \n",
    "        adj[v2][v1] =  1/d \n",
    "\n",
    "\n",
    "mrtx_roi_1_all = ddf_mrtx[(ddf_mrtx.ROI_name==(mrtx_rois[1]))]\n",
    "mrtx_roi_2_all = ddf_mrtx[(ddf_mrtx.ROI_name==(mrtx_rois[0]))]\n",
    "\n"
   ]
  },
  {
   "cell_type": "code",
   "execution_count": 93,
   "metadata": {},
   "outputs": [],
   "source": [
    "mrtx_roi_1_all.columns\n",
    "cols_to_drop = ['Location_Center_X','Location_Center_Y']\n",
    "mrtx_roi_1_all=mrtx_roi_1_all.drop(cols_to_drop,axis=1)\n"
   ]
  },
  {
   "cell_type": "code",
   "execution_count": 98,
   "metadata": {},
   "outputs": [
    {
     "output_type": "stream",
     "name": "stdout",
     "text": [
      "Index(['Unnamed: 0', 'X', 'cellID', 'cellType', 'B_cells', 'Epithelium',\n       'Fibroblasts', 'Myeloid_dendritic_cells',\n       'Myeloid_dendritic_cells_CD103', 'Myeloid_macrophages',\n       'Myeloid_macrophages_type1', 'Myeloid_macrophages_type2',\n       'Myeloid_neutrophils', 'Normal', 'Tumour', 'Vessels', 'T_cells_CD8',\n       'T_cells_CD4', 'T_reg_cells', 'NK_cells', 'cluster', 'Treatment',\n       'ROI_name', 'Filename', 'Clustername', 'ObjectNumber', 'ImageNumber',\n       'MI_B220', 'MI_CD103', 'MI_CD11c', 'MI_CD206', 'MI_CD3', 'MI_CD44',\n       'MI_CD45', 'MI_CD4', 'MI_CD68', 'MI_CD80', 'MI_CD86', 'MI_CD8',\n       'MI_EPCAM', 'MI_F480', 'MI_Foxp3', 'MI_Ki67', 'MI_LY6G', 'MI_MHCcII',\n       'MI_NKp46', 'MI_PD1', 'MI_PDL1', 'MI_PECAM', 'MI_PVR', 'MI_TCRgd',\n       'MI_Vimentin', 'MI_aSMA', 'MI_casp3', 'MI_pS6', 'clustername_tumour',\n       'clustername_tumourID'],\n      dtype='object')\n"
     ]
    }
   ],
   "source": [
    "labels = mrtx_roi_1_all['Domain'].to_numpy()\n",
    "features = mrtx_roi_1_all.drop('Domain',axis=1)\n",
    "print(features.columns)\n",
    "# indexes_to_encode = [2, 3, 21, 22, 23, 24, 55]\n",
    "\n",
    "\n",
    "\n",
    "to_encode = ['cellID', 'cellType', 'Treatment', 'ROI_name', 'Filename', 'Clustername', 'clustername_tumour']\n",
    "\n",
    "for col in to_encode: \n",
    "    le_domain = preprocessing.LabelEncoder()\n",
    "    features[col] = le_domain.fit_transform(features[col])\n",
    "features=features.to_numpy()\n",
    "\n"
   ]
  },
  {
   "cell_type": "code",
   "execution_count": 97,
   "metadata": {},
   "outputs": [
    {
     "output_type": "stream",
     "name": "stdout",
     "text": [
      "['cellID', 'cellType', 'Treatment', 'ROI_name', 'Filename', 'Clustername', 'clustername_tumour']\n"
     ]
    }
   ],
   "source": [
    "st=[]\n",
    "l=['Unnamed: 0', 'X', 'cellID', 'cellType', 'B_cells', 'Epithelium',\n",
    "       'Fibroblasts', 'Myeloid_dendritic_cells',\n",
    "       'Myeloid_dendritic_cells_CD103', 'Myeloid_macrophages',\n",
    "       'Myeloid_macrophages_type1', 'Myeloid_macrophages_type2',\n",
    "       'Myeloid_neutrophils', 'Normal', 'Tumour', 'Vessels', 'T_cells_CD8',\n",
    "       'T_cells_CD4', 'T_reg_cells', 'NK_cells', 'cluster', 'Treatment',\n",
    "       'ROI_name', 'Filename', 'Clustername', 'ObjectNumber', 'ImageNumber',\n",
    "       'MI_B220', 'MI_CD103', 'MI_CD11c', 'MI_CD206', 'MI_CD3', 'MI_CD44',\n",
    "       'MI_CD45', 'MI_CD4', 'MI_CD68', 'MI_CD80', 'MI_CD86', 'MI_CD8',\n",
    "       'MI_EPCAM', 'MI_F480', 'MI_Foxp3', 'MI_Ki67', 'MI_LY6G', 'MI_MHCcII',\n",
    "       'MI_NKp46', 'MI_PD1', 'MI_PDL1', 'MI_PECAM', 'MI_PVR', 'MI_TCRgd',\n",
    "       'MI_Vimentin', 'MI_aSMA', 'MI_casp3', 'MI_pS6', 'clustername_tumour',\n",
    "       'clustername_tumourID']\n",
    "for i,x in enumerate(features[0]): \n",
    "    if type(x)==str:\n",
    "        st.append(l[i])\n",
    "print(st)"
   ]
  },
  {
   "cell_type": "code",
   "execution_count": 100,
   "metadata": {},
   "outputs": [
    {
     "output_type": "execute_result",
     "data": {
      "text/plain": [
       "array([1.278730e+05, 1.278730e+05, 1.000000e+00, 1.300000e+01,\n",
       "       0.000000e+00, 0.000000e+00, 0.000000e+00, 1.428571e-01,\n",
       "       0.000000e+00, 0.000000e+00, 0.000000e+00, 4.761905e-02,\n",
       "       0.000000e+00, 0.000000e+00, 8.095238e-01, 0.000000e+00,\n",
       "       0.000000e+00, 0.000000e+00, 0.000000e+00, 0.000000e+00,\n",
       "       2.900000e+01, 0.000000e+00, 0.000000e+00, 0.000000e+00,\n",
       "       6.000000e+00, 1.000000e+03, 3.000000e+00, 3.200013e-01,\n",
       "       2.632136e-01, 4.122708e-01, 8.854261e-02, 3.900941e-02,\n",
       "       7.452304e-01, 3.153110e-01, 8.647221e-02, 3.068781e-01,\n",
       "       4.733572e-01, 3.892209e-01, 1.717837e-01, 5.758085e-02,\n",
       "       5.949226e-02, 2.095955e-01, 3.946183e-01, 3.694697e-02,\n",
       "       4.903612e-01, 3.695566e-01, 3.807219e-01, 2.455287e-01,\n",
       "       4.085591e-01, 4.738021e-01, 1.231498e-01, 4.464051e-01,\n",
       "       2.161955e-01, 9.827914e-02, 6.957322e-01, 1.300000e+01,\n",
       "       1.500000e+01])"
      ]
     },
     "metadata": {},
     "execution_count": 100
    }
   ],
   "source": [
    "features"
   ]
  },
  {
   "cell_type": "code",
   "execution_count": null,
   "metadata": {},
   "outputs": [],
   "source": []
  }
 ],
 "metadata": {
  "kernelspec": {
   "name": "python373jvsc74a57bd0cf3f37f54f5604e82cfd3e9e70e60b218afb28f715a34c084c12da51e5a1efbd",
   "display_name": "Python 3.7.3 64-bit ('base': conda)"
  },
  "language_info": {
   "codemirror_mode": {
    "name": "ipython",
    "version": 3
   },
   "file_extension": ".py",
   "mimetype": "text/x-python",
   "name": "python",
   "nbconvert_exporter": "python",
   "pygments_lexer": "ipython3",
   "version": "3.7.3"
  }
 },
 "nbformat": 4,
 "nbformat_minor": 4
}